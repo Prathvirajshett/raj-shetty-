{
  "nbformat": 4,
  "nbformat_minor": 0,
  "metadata": {
    "colab": {
      "name": "Untitled5.ipynb",
      "provenance": [],
      "authorship_tag": "ABX9TyNBRmno5PkrWnOGEZ47vDTA",
      "include_colab_link": true
    },
    "kernelspec": {
      "name": "python3",
      "display_name": "Python 3"
    },
    "language_info": {
      "name": "python"
    }
  },
  "cells": [
    {
      "cell_type": "markdown",
      "metadata": {
        "id": "view-in-github",
        "colab_type": "text"
      },
      "source": [
        "<a href=\"https://colab.research.google.com/github/Prathvirajshett/raj-shetty-/blob/master/date%20and%20valid_email%20pyspark.ipynb\" target=\"_parent\"><img src=\"https://colab.research.google.com/assets/colab-badge.svg\" alt=\"Open In Colab\"/></a>"
      ]
    },
    {
      "cell_type": "code",
      "execution_count": 1,
      "metadata": {
        "colab": {
          "base_uri": "https://localhost:8080/"
        },
        "id": "9kxjl-mxIO_U",
        "outputId": "1a28e3af-1bc7-436a-cab7-77ec68883b60"
      },
      "outputs": [
        {
          "output_type": "stream",
          "name": "stdout",
          "text": [
            "Mounted at /content/drive\n"
          ]
        }
      ],
      "source": [
        "from google.colab import drive\n",
        "drive.mount('/content/drive')"
      ]
    },
    {
      "cell_type": "code",
      "source": [
        "pip install spark"
      ],
      "metadata": {
        "colab": {
          "base_uri": "https://localhost:8080/"
        },
        "id": "5y6TRHRexPQ6",
        "outputId": "0f390396-27e8-4170-fa0b-d00c69b867c7"
      },
      "execution_count": 2,
      "outputs": [
        {
          "output_type": "stream",
          "name": "stdout",
          "text": [
            "Looking in indexes: https://pypi.org/simple, https://us-python.pkg.dev/colab-wheels/public/simple/\n",
            "Collecting spark\n",
            "  Downloading spark-0.2.1.tar.gz (41 kB)\n",
            "\u001b[K     |████████████████████████████████| 41 kB 74 kB/s \n",
            "\u001b[?25hBuilding wheels for collected packages: spark\n",
            "  Building wheel for spark (setup.py) ... \u001b[?25l\u001b[?25hdone\n",
            "  Created wheel for spark: filename=spark-0.2.1-py3-none-any.whl size=58762 sha256=191dfc6f6f1200c40c9d33d3bbcd60f1c3c87d9623e6dca1d211787483f76658\n",
            "  Stored in directory: /root/.cache/pip/wheels/4e/0e/f1/164619f9920fb447d294afaae11a7715bd442ded7225953d72\n",
            "Successfully built spark\n",
            "Installing collected packages: spark\n",
            "Successfully installed spark-0.2.1\n"
          ]
        }
      ]
    },
    {
      "cell_type": "code",
      "source": [
        "pip install pyspark"
      ],
      "metadata": {
        "colab": {
          "base_uri": "https://localhost:8080/"
        },
        "id": "ZvIc47GYvySa",
        "outputId": "f3213d31-4c9b-4a55-bdd3-3f66a13a4f2f"
      },
      "execution_count": 3,
      "outputs": [
        {
          "output_type": "stream",
          "name": "stdout",
          "text": [
            "Looking in indexes: https://pypi.org/simple, https://us-python.pkg.dev/colab-wheels/public/simple/\n",
            "Collecting pyspark\n",
            "  Downloading pyspark-3.2.1.tar.gz (281.4 MB)\n",
            "\u001b[K     |████████████████████████████████| 281.4 MB 34 kB/s \n",
            "\u001b[?25hCollecting py4j==0.10.9.3\n",
            "  Downloading py4j-0.10.9.3-py2.py3-none-any.whl (198 kB)\n",
            "\u001b[K     |████████████████████████████████| 198 kB 63.2 MB/s \n",
            "\u001b[?25hBuilding wheels for collected packages: pyspark\n",
            "  Building wheel for pyspark (setup.py) ... \u001b[?25l\u001b[?25hdone\n",
            "  Created wheel for pyspark: filename=pyspark-3.2.1-py2.py3-none-any.whl size=281853642 sha256=da5900d5d1c3d6c065c33f761cc3316c79f0038c9b417f3ebd97a6ec60f316c8\n",
            "  Stored in directory: /root/.cache/pip/wheels/9f/f5/07/7cd8017084dce4e93e84e92efd1e1d5334db05f2e83bcef74f\n",
            "Successfully built pyspark\n",
            "Installing collected packages: py4j, pyspark\n",
            "Successfully installed py4j-0.10.9.3 pyspark-3.2.1\n"
          ]
        }
      ]
    },
    {
      "cell_type": "code",
      "source": [
        "import pyspark"
      ],
      "metadata": {
        "id": "dzCDlPCowS4n"
      },
      "execution_count": 4,
      "outputs": []
    },
    {
      "cell_type": "code",
      "source": [
        "!apt-get install openjdk-8-jdk-headless -qq > /dev/null"
      ],
      "metadata": {
        "id": "5Lcw-6tTIvfC"
      },
      "execution_count": 5,
      "outputs": []
    },
    {
      "cell_type": "code",
      "source": [
        "!wget -q https://dlcdn.apache.org/spark/spark-3.2.1/spark-3.2.1-bin-hadoop3.2.tgz"
      ],
      "metadata": {
        "id": "pTW8-MCEJIQq"
      },
      "execution_count": 6,
      "outputs": []
    },
    {
      "cell_type": "code",
      "source": [
        "!tar xf spark-3.2.1-bin-hadoop3.2.tgz"
      ],
      "metadata": {
        "id": "s4SqQKvfJRZj"
      },
      "execution_count": 7,
      "outputs": []
    },
    {
      "cell_type": "code",
      "source": [
        "!pip install -q findspark"
      ],
      "metadata": {
        "id": "ehhxknhsJVni"
      },
      "execution_count": 8,
      "outputs": []
    },
    {
      "cell_type": "code",
      "source": [
        "import os\n",
        "os.environ[\"JAVA_HOME\"] = \"/usr/lib/jvm/java-8-openjdk-amd64\"\n",
        "os.environ[\"SPARK_HOME\"] = \"/content/spark-3.2.1-bin-hadoop3.2\"\n"
      ],
      "metadata": {
        "id": "VhBYd1kyJcsu"
      },
      "execution_count": 9,
      "outputs": []
    },
    {
      "cell_type": "code",
      "source": [
        "import findspark\n",
        "findspark.init()\n"
      ],
      "metadata": {
        "id": "PM_rvWdyJkz0"
      },
      "execution_count": 10,
      "outputs": []
    },
    {
      "cell_type": "code",
      "source": [
        "findspark.find()\n"
      ],
      "metadata": {
        "colab": {
          "base_uri": "https://localhost:8080/",
          "height": 36
        },
        "id": "Ar406B7uJpEK",
        "outputId": "af1e3a4f-a0ae-4c4a-959d-40c19be5babe"
      },
      "execution_count": 11,
      "outputs": [
        {
          "output_type": "execute_result",
          "data": {
            "text/plain": [
              "'/content/spark-3.2.1-bin-hadoop3.2'"
            ],
            "application/vnd.google.colaboratory.intrinsic+json": {
              "type": "string"
            }
          },
          "metadata": {},
          "execution_count": 11
        }
      ]
    },
    {
      "cell_type": "code",
      "source": [
        "from pyspark.sql import SparkSession"
      ],
      "metadata": {
        "id": "BYjWZsiSJwLQ"
      },
      "execution_count": 12,
      "outputs": []
    },
    {
      "cell_type": "code",
      "source": [
        "spark = SparkSession.builder\\\n",
        "        .master(\"local\")\\\n",
        "        .appName(\"Colab\")\\\n",
        "        .config('spark.ui.port', '4050')\\\n",
        "        .getOrCreate()"
      ],
      "metadata": {
        "id": "gz3mZfVjJ1AR"
      },
      "execution_count": 13,
      "outputs": []
    },
    {
      "cell_type": "code",
      "source": [
        "spark"
      ],
      "metadata": {
        "colab": {
          "base_uri": "https://localhost:8080/",
          "height": 219
        },
        "id": "5rt5sKG6J4FB",
        "outputId": "66d8a538-e886-4989-cbeb-1d9346badd4c"
      },
      "execution_count": 14,
      "outputs": [
        {
          "output_type": "execute_result",
          "data": {
            "text/plain": [
              "<pyspark.sql.session.SparkSession at 0x7f9c434b0c90>"
            ],
            "text/html": [
              "\n",
              "            <div>\n",
              "                <p><b>SparkSession - in-memory</b></p>\n",
              "                \n",
              "        <div>\n",
              "            <p><b>SparkContext</b></p>\n",
              "\n",
              "            <p><a href=\"http://ac32b5c6d553:4050\">Spark UI</a></p>\n",
              "\n",
              "            <dl>\n",
              "              <dt>Version</dt>\n",
              "                <dd><code>v3.2.1</code></dd>\n",
              "              <dt>Master</dt>\n",
              "                <dd><code>local</code></dd>\n",
              "              <dt>AppName</dt>\n",
              "                <dd><code>Colab</code></dd>\n",
              "            </dl>\n",
              "        </div>\n",
              "        \n",
              "            </div>\n",
              "        "
            ]
          },
          "metadata": {},
          "execution_count": 14
        }
      ]
    },
    {
      "cell_type": "code",
      "source": [
        "df=spark.read.csv(\"/content/data_prep.csv\",header=True,inferSchema=True)"
      ],
      "metadata": {
        "id": "1kbFnJ47J_na"
      },
      "execution_count": 16,
      "outputs": []
    },
    {
      "cell_type": "code",
      "source": [
        "df.show()"
      ],
      "metadata": {
        "colab": {
          "base_uri": "https://localhost:8080/"
        },
        "id": "FNYLZt3iKbFE",
        "outputId": "6b3cd3eb-4973-4740-a4f1-78c5e7f645b8"
      },
      "execution_count": 17,
      "outputs": [
        {
          "output_type": "stream",
          "name": "stdout",
          "text": [
            "+------+----------------+----------+------+-----------+\n",
            "|userid|         emailid|      date|amount|   discount|\n",
            "+------+----------------+----------+------+-----------+\n",
            "|     1| test1@gmail.com|01-01-2019|   100|        1.0|\n",
            "|     2| test2@gmail.com|02-01-2019|   100|        1.0|\n",
            "|     3| test3@gmail.com|03-01-2019|   101|        2.0|\n",
            "|     4| test4@gmail.com|04-01-2019|   102|       10.0|\n",
            "|     5| test5@gmail.com|05-01-2019| 102.5|        2.0|\n",
            "|     6| test6@gmail.com|06-01-2019| 103.2|        1.0|\n",
            "|     7| test7@gmail.com|07-01-2019| 103.9|        3.0|\n",
            "|     8| test8@gmail.com|08-01-2019| 104.6|        5.0|\n",
            "|     9| test9@gmail.com|09-01-2019| 105.3|4.571428571|\n",
            "|    10|test10@gmail.com|10-01-2019|   106|4.892857143|\n",
            "|    11|test11@gmail.com|11-01-2019| 106.7|5.214285714|\n",
            "|    12|test12@gmail.com|12-01-2019| 107.4|5.535714286|\n",
            "|    13|test13@gmail.com|13-01-2019| 108.1|5.857142857|\n",
            "|    14|test14@gmail.com|14-01-2019| 108.8|6.178571429|\n",
            "|    15|test15@gmail.com|15-01-2019| 109.5|        6.5|\n",
            "|    16|test16@gmail.com|16-01-2019| 110.2|6.821428571|\n",
            "|    17|test17@gmail.com|17-01-2019| 110.9|7.142857143|\n",
            "|    18|test18@gmail.com|18-01-2019| 111.6|7.464285714|\n",
            "|    19|test19@gmail.com|19-01-2019| 112.3|7.785714286|\n",
            "|    20|test20@gmail.com|20-01-2019|   113|8.107142857|\n",
            "+------+----------------+----------+------+-----------+\n",
            "only showing top 20 rows\n",
            "\n"
          ]
        }
      ]
    },
    {
      "cell_type": "code",
      "source": [
        "df.count()"
      ],
      "metadata": {
        "id": "RvKkHErNKf5X",
        "colab": {
          "base_uri": "https://localhost:8080/"
        },
        "outputId": "126b82cf-ecb8-4df4-b8eb-039bfba48e6c"
      },
      "execution_count": 20,
      "outputs": [
        {
          "output_type": "execute_result",
          "data": {
            "text/plain": [
              "902"
            ]
          },
          "metadata": {},
          "execution_count": 20
        }
      ]
    },
    {
      "cell_type": "code",
      "source": [
        "df1=df.dropna()"
      ],
      "metadata": {
        "id": "ARr28E16Krcs"
      },
      "execution_count": 19,
      "outputs": []
    },
    {
      "cell_type": "code",
      "source": [
        "df1.count()"
      ],
      "metadata": {
        "id": "j78ARZifK1Xg",
        "colab": {
          "base_uri": "https://localhost:8080/"
        },
        "outputId": "606604ad-2a59-4644-d45b-fd5cf6fcbfed"
      },
      "execution_count": 21,
      "outputs": [
        {
          "output_type": "execute_result",
          "data": {
            "text/plain": [
              "901"
            ]
          },
          "metadata": {},
          "execution_count": 21
        }
      ]
    },
    {
      "cell_type": "code",
      "source": [
        "df.filter(\"emailid is NULL AND date is NULL AND amount is NULL\").show() "
      ],
      "metadata": {
        "colab": {
          "base_uri": "https://localhost:8080/"
        },
        "id": "kdnURoe6K3q5",
        "outputId": "06a4fd31-97c4-4c12-b985-db3c38628d3b"
      },
      "execution_count": 22,
      "outputs": [
        {
          "output_type": "stream",
          "name": "stdout",
          "text": [
            "+------+-------+----+------+--------+\n",
            "|userid|emailid|date|amount|discount|\n",
            "+------+-------+----+------+--------+\n",
            "+------+-------+----+------+--------+\n",
            "\n"
          ]
        }
      ]
    },
    {
      "cell_type": "code",
      "source": [
        "from pyspark.sql.functions import *\n",
        "from pyspark.sql.types import *\n",
        "from pyspark.sql import *"
      ],
      "metadata": {
        "id": "bpcnJ1LDMBqv"
      },
      "execution_count": 23,
      "outputs": []
    },
    {
      "cell_type": "code",
      "source": [
        "import datetime"
      ],
      "metadata": {
        "id": "RKLSgWZOM3QK"
      },
      "execution_count": 24,
      "outputs": []
    },
    {
      "cell_type": "code",
      "source": [
        "def vali_date(i):\n",
        "\n",
        "  try:\n",
        "    result=datetime.datetime.strptime(i,'%d-%m-%Y')\n",
        "    new_reult=result.datetime.strftime('%d-%m-%Y')\n",
        "    return new_reult\n",
        "  except AttributeError:\n",
        "            pass\n",
        "  raise ValueError('no valid date format found')\n",
        "\n"
      ],
      "metadata": {
        "id": "JEsiCpPZOyDo"
      },
      "execution_count": 54,
      "outputs": []
    },
    {
      "cell_type": "code",
      "source": [
        ""
      ],
      "metadata": {
        "id": "KqqRjcWSayUL"
      },
      "execution_count": 25,
      "outputs": []
    },
    {
      "cell_type": "code",
      "source": [
        "vali_date_UDF= udf(lambda i:vali_date(i))"
      ],
      "metadata": {
        "id": "S1MIrQLrYPpT"
      },
      "execution_count": 51,
      "outputs": []
    },
    {
      "cell_type": "code",
      "source": [
        "\n",
        "\n",
        "df.select(col('date'),vali_date_UDF(col(\"date\").alias(\"date_temp\"))).show()"
      ],
      "metadata": {
        "colab": {
          "base_uri": "https://localhost:8080/",
          "height": 432
        },
        "id": "MARgdAmLTJSd",
        "outputId": "26f7cf74-aaf4-412e-d4c3-1b051793702a"
      },
      "execution_count": 60,
      "outputs": [
        {
          "output_type": "error",
          "ename": "PythonException",
          "evalue": "ignored",
          "traceback": [
            "\u001b[0;31m---------------------------------------------------------------------------\u001b[0m",
            "\u001b[0;31mPythonException\u001b[0m                           Traceback (most recent call last)",
            "\u001b[0;32m<ipython-input-60-1576826d9341>\u001b[0m in \u001b[0;36m<module>\u001b[0;34m()\u001b[0m\n\u001b[1;32m      1\u001b[0m \u001b[0;34m\u001b[0m\u001b[0m\n\u001b[1;32m      2\u001b[0m \u001b[0;34m\u001b[0m\u001b[0m\n\u001b[0;32m----> 3\u001b[0;31m \u001b[0mdf\u001b[0m\u001b[0;34m.\u001b[0m\u001b[0mselect\u001b[0m\u001b[0;34m(\u001b[0m\u001b[0mcol\u001b[0m\u001b[0;34m(\u001b[0m\u001b[0;34m'date'\u001b[0m\u001b[0;34m)\u001b[0m\u001b[0;34m,\u001b[0m\u001b[0mvali_date_UDF\u001b[0m\u001b[0;34m(\u001b[0m\u001b[0mcol\u001b[0m\u001b[0;34m(\u001b[0m\u001b[0;34m\"date\"\u001b[0m\u001b[0;34m)\u001b[0m\u001b[0;34m.\u001b[0m\u001b[0malias\u001b[0m\u001b[0;34m(\u001b[0m\u001b[0;34m\"date_temp\"\u001b[0m\u001b[0;34m)\u001b[0m\u001b[0;34m)\u001b[0m\u001b[0;34m)\u001b[0m\u001b[0;34m.\u001b[0m\u001b[0mshow\u001b[0m\u001b[0;34m(\u001b[0m\u001b[0;34m)\u001b[0m\u001b[0;34m\u001b[0m\u001b[0;34m\u001b[0m\u001b[0m\n\u001b[0m",
            "\u001b[0;32m/usr/local/lib/python3.7/dist-packages/pyspark/sql/dataframe.py\u001b[0m in \u001b[0;36mshow\u001b[0;34m(self, n, truncate, vertical)\u001b[0m\n\u001b[1;32m    492\u001b[0m \u001b[0;34m\u001b[0m\u001b[0m\n\u001b[1;32m    493\u001b[0m         \u001b[0;32mif\u001b[0m \u001b[0misinstance\u001b[0m\u001b[0;34m(\u001b[0m\u001b[0mtruncate\u001b[0m\u001b[0;34m,\u001b[0m \u001b[0mbool\u001b[0m\u001b[0;34m)\u001b[0m \u001b[0;32mand\u001b[0m \u001b[0mtruncate\u001b[0m\u001b[0;34m:\u001b[0m\u001b[0;34m\u001b[0m\u001b[0;34m\u001b[0m\u001b[0m\n\u001b[0;32m--> 494\u001b[0;31m             \u001b[0mprint\u001b[0m\u001b[0;34m(\u001b[0m\u001b[0mself\u001b[0m\u001b[0;34m.\u001b[0m\u001b[0m_jdf\u001b[0m\u001b[0;34m.\u001b[0m\u001b[0mshowString\u001b[0m\u001b[0;34m(\u001b[0m\u001b[0mn\u001b[0m\u001b[0;34m,\u001b[0m \u001b[0;36m20\u001b[0m\u001b[0;34m,\u001b[0m \u001b[0mvertical\u001b[0m\u001b[0;34m)\u001b[0m\u001b[0;34m)\u001b[0m\u001b[0;34m\u001b[0m\u001b[0;34m\u001b[0m\u001b[0m\n\u001b[0m\u001b[1;32m    495\u001b[0m         \u001b[0;32melse\u001b[0m\u001b[0;34m:\u001b[0m\u001b[0;34m\u001b[0m\u001b[0;34m\u001b[0m\u001b[0m\n\u001b[1;32m    496\u001b[0m             \u001b[0;32mtry\u001b[0m\u001b[0;34m:\u001b[0m\u001b[0;34m\u001b[0m\u001b[0;34m\u001b[0m\u001b[0m\n",
            "\u001b[0;32m/usr/local/lib/python3.7/dist-packages/py4j/java_gateway.py\u001b[0m in \u001b[0;36m__call__\u001b[0;34m(self, *args)\u001b[0m\n\u001b[1;32m   1320\u001b[0m         \u001b[0manswer\u001b[0m \u001b[0;34m=\u001b[0m \u001b[0mself\u001b[0m\u001b[0;34m.\u001b[0m\u001b[0mgateway_client\u001b[0m\u001b[0;34m.\u001b[0m\u001b[0msend_command\u001b[0m\u001b[0;34m(\u001b[0m\u001b[0mcommand\u001b[0m\u001b[0;34m)\u001b[0m\u001b[0;34m\u001b[0m\u001b[0;34m\u001b[0m\u001b[0m\n\u001b[1;32m   1321\u001b[0m         return_value = get_return_value(\n\u001b[0;32m-> 1322\u001b[0;31m             answer, self.gateway_client, self.target_id, self.name)\n\u001b[0m\u001b[1;32m   1323\u001b[0m \u001b[0;34m\u001b[0m\u001b[0m\n\u001b[1;32m   1324\u001b[0m         \u001b[0;32mfor\u001b[0m \u001b[0mtemp_arg\u001b[0m \u001b[0;32min\u001b[0m \u001b[0mtemp_args\u001b[0m\u001b[0;34m:\u001b[0m\u001b[0;34m\u001b[0m\u001b[0;34m\u001b[0m\u001b[0m\n",
            "\u001b[0;32m/usr/local/lib/python3.7/dist-packages/pyspark/sql/utils.py\u001b[0m in \u001b[0;36mdeco\u001b[0;34m(*a, **kw)\u001b[0m\n\u001b[1;32m    115\u001b[0m                 \u001b[0;31m# Hide where the exception came from that shows a non-Pythonic\u001b[0m\u001b[0;34m\u001b[0m\u001b[0;34m\u001b[0m\u001b[0;34m\u001b[0m\u001b[0m\n\u001b[1;32m    116\u001b[0m                 \u001b[0;31m# JVM exception message.\u001b[0m\u001b[0;34m\u001b[0m\u001b[0;34m\u001b[0m\u001b[0;34m\u001b[0m\u001b[0m\n\u001b[0;32m--> 117\u001b[0;31m                 \u001b[0;32mraise\u001b[0m \u001b[0mconverted\u001b[0m \u001b[0;32mfrom\u001b[0m \u001b[0;32mNone\u001b[0m\u001b[0;34m\u001b[0m\u001b[0;34m\u001b[0m\u001b[0m\n\u001b[0m\u001b[1;32m    118\u001b[0m             \u001b[0;32melse\u001b[0m\u001b[0;34m:\u001b[0m\u001b[0;34m\u001b[0m\u001b[0;34m\u001b[0m\u001b[0m\n\u001b[1;32m    119\u001b[0m                 \u001b[0;32mraise\u001b[0m\u001b[0;34m\u001b[0m\u001b[0;34m\u001b[0m\u001b[0m\n",
            "\u001b[0;31mPythonException\u001b[0m: \n  An exception was thrown from the Python worker. Please see the stack trace below.\nTraceback (most recent call last):\n  File \"<ipython-input-51-248072ff87d7>\", line 1, in <lambda>\n  File \"<ipython-input-50-8b4aa527cd55>\", line 8, in vali_date\nAttributeError: type object 'datetime.datetime' has no attribute 'datetime'\n"
          ]
        }
      ]
    },
    {
      "cell_type": "code",
      "source": [
        "df2=df.select(\"discount\").distinct().show()"
      ],
      "metadata": {
        "colab": {
          "base_uri": "https://localhost:8080/"
        },
        "id": "13gXirLwT5pj",
        "outputId": "380b2a19-2016-4a5b-e553-ef60e25b5e4b"
      },
      "execution_count": 30,
      "outputs": [
        {
          "output_type": "stream",
          "name": "stdout",
          "text": [
            "+-----------+\n",
            "|   discount|\n",
            "+-----------+\n",
            "|       15.5|\n",
            "|31.57142857|\n",
            "|42.17857143|\n",
            "|       8.75|\n",
            "|17.10714286|\n",
            "|      31.25|\n",
            "|        0.0|\n",
            "|10.67857143|\n",
            "|21.60714286|\n",
            "|11.96428571|\n",
            "|20.32142857|\n",
            "|27.07142857|\n",
            "|18.71428571|\n",
            "|38.96428571|\n",
            "|14.85714286|\n",
            "|32.53571429|\n",
            "|      26.75|\n",
            "|44.42857143|\n",
            "|      35.75|\n",
            "|8.107142857|\n",
            "+-----------+\n",
            "only showing top 20 rows\n",
            "\n"
          ]
        }
      ]
    },
    {
      "cell_type": "code",
      "source": [
        ""
      ],
      "metadata": {
        "id": "wYjFMjhLhkJr"
      },
      "execution_count": null,
      "outputs": []
    },
    {
      "cell_type": "code",
      "source": [
        "from datetime import datetime\n",
        "\n",
        "def try_parsing_date(text):\n",
        "    for fmt in ('%Y-%m-%d', '%d.%m.%Y', '%d/%m/%Y','%d-%m-%Y','%dd-%mm-%yyyy'):\n",
        "        try:\n",
        "            date_object=datetime.strptime(text, fmt)\n",
        "            new_object=date_object.strftime('%Y-%m-%d')\n",
        "            \n",
        "            return new_object\n",
        "            \n",
        "        except ValueError:\n",
        "            pass\n",
        "    raise ValueError('no valid date format found')\n",
        "#ab=try_parsing_date('12-10-1996')"
      ],
      "metadata": {
        "id": "I99XyOK2hw6b"
      },
      "execution_count": 39,
      "outputs": []
    },
    {
      "cell_type": "code",
      "source": [
        "my_udf=udf(lambda x :try_parsing_date(x))"
      ],
      "metadata": {
        "id": "PEsl9W1ZgqLy"
      },
      "execution_count": 42,
      "outputs": []
    },
    {
      "cell_type": "code",
      "source": [
        "abc=df.select(col('date'),my_udf(col('date').alias(\"new_data\")))"
      ],
      "metadata": {
        "id": "bJLj-wDyg2LI"
      },
      "execution_count": 45,
      "outputs": []
    },
    {
      "cell_type": "code",
      "source": [
        "abc.show()"
      ],
      "metadata": {
        "colab": {
          "base_uri": "https://localhost:8080/"
        },
        "id": "41RUkwlIuS6A",
        "outputId": "4e4aee87-e81f-470f-9eea-fd65837f6831"
      },
      "execution_count": 46,
      "outputs": [
        {
          "output_type": "stream",
          "name": "stdout",
          "text": [
            "+----------+--------------------------+\n",
            "|      date|<lambda>(date AS new_data)|\n",
            "+----------+--------------------------+\n",
            "|01-01-2019|                2019-01-01|\n",
            "|02-01-2019|                2019-01-02|\n",
            "|03-01-2019|                2019-01-03|\n",
            "|04-01-2019|                2019-01-04|\n",
            "|05-01-2019|                2019-01-05|\n",
            "|06-01-2019|                2019-01-06|\n",
            "|07-01-2019|                2019-01-07|\n",
            "|08-01-2019|                2019-01-08|\n",
            "|09-01-2019|                2019-01-09|\n",
            "|10-01-2019|                2019-01-10|\n",
            "|11-01-2019|                2019-01-11|\n",
            "|12-01-2019|                2019-01-12|\n",
            "|13-01-2019|                2019-01-13|\n",
            "|14-01-2019|                2019-01-14|\n",
            "|15-01-2019|                2019-01-15|\n",
            "|16-01-2019|                2019-01-16|\n",
            "|17-01-2019|                2019-01-17|\n",
            "|18-01-2019|                2019-01-18|\n",
            "|19-01-2019|                2019-01-19|\n",
            "|20-01-2019|                2019-01-20|\n",
            "+----------+--------------------------+\n",
            "only showing top 20 rows\n",
            "\n"
          ]
        }
      ]
    },
    {
      "cell_type": "code",
      "source": [
        "UDF=udf(lambda text:try_parsing_date(text),)"
      ],
      "metadata": {
        "id": "g98k_KU2ucn9"
      },
      "execution_count": 63,
      "outputs": []
    },
    {
      "cell_type": "code",
      "source": [
        "ddf=df.select((col(\"date\")).alias(\"date_temp\")).show()"
      ],
      "metadata": {
        "colab": {
          "base_uri": "https://localhost:8080/"
        },
        "id": "UD61TKdQuy4f",
        "outputId": "7ae4c45e-dd62-484a-dfde-743bc1ba9eed"
      },
      "execution_count": 62,
      "outputs": [
        {
          "output_type": "stream",
          "name": "stdout",
          "text": [
            "+----------+\n",
            "| date_temp|\n",
            "+----------+\n",
            "|01-01-2019|\n",
            "|02-01-2019|\n",
            "|03-01-2019|\n",
            "|04-01-2019|\n",
            "|05-01-2019|\n",
            "|06-01-2019|\n",
            "|07-01-2019|\n",
            "|08-01-2019|\n",
            "|09-01-2019|\n",
            "|10-01-2019|\n",
            "|11-01-2019|\n",
            "|12-01-2019|\n",
            "|13-01-2019|\n",
            "|14-01-2019|\n",
            "|15-01-2019|\n",
            "|16-01-2019|\n",
            "|17-01-2019|\n",
            "|18-01-2019|\n",
            "|19-01-2019|\n",
            "|20-01-2019|\n",
            "+----------+\n",
            "only showing top 20 rows\n",
            "\n"
          ]
        }
      ]
    },
    {
      "cell_type": "code",
      "source": [
        "pip install validate_email"
      ],
      "metadata": {
        "colab": {
          "base_uri": "https://localhost:8080/"
        },
        "id": "Rw0n9-Qmu8PF",
        "outputId": "6595c423-cf43-4a30-9453-8e68e0275982"
      },
      "execution_count": 61,
      "outputs": [
        {
          "output_type": "stream",
          "name": "stdout",
          "text": [
            "Looking in indexes: https://pypi.org/simple, https://us-python.pkg.dev/colab-wheels/public/simple/\n",
            "Collecting validate_email\n",
            "  Downloading validate_email-1.3.tar.gz (4.7 kB)\n",
            "Building wheels for collected packages: validate-email\n",
            "  Building wheel for validate-email (setup.py) ... \u001b[?25l\u001b[?25hdone\n",
            "  Created wheel for validate-email: filename=validate_email-1.3-py3-none-any.whl size=5482 sha256=b4f80cda273f409e7c211c582264946d52db38e95e9e142835823da533b2f6d4\n",
            "  Stored in directory: /root/.cache/pip/wheels/ff/8f/92/c43287715852eaa75e0d8aa1941c481072b4a82c4f4975074e\n",
            "Successfully built validate-email\n",
            "Installing collected packages: validate-email\n",
            "Successfully installed validate-email-1.3\n"
          ]
        }
      ]
    },
    {
      "cell_type": "code",
      "source": [
        "from validate_email import validate_email"
      ],
      "metadata": {
        "id": "zElIWYREDD41"
      },
      "execution_count": 64,
      "outputs": []
    },
    {
      "cell_type": "code",
      "source": [
        "is_valid=validate_email('exampleexample@gmail.com')"
      ],
      "metadata": {
        "id": "klP9XyQADPz9"
      },
      "execution_count": 67,
      "outputs": []
    },
    {
      "cell_type": "code",
      "source": [
        "print(is_valid)"
      ],
      "metadata": {
        "colab": {
          "base_uri": "https://localhost:8080/"
        },
        "id": "zY4IEfCJmR8x",
        "outputId": "ad2d0d58-6393-43ea-d5d4-f2d258ec746d"
      },
      "execution_count": 68,
      "outputs": [
        {
          "output_type": "stream",
          "name": "stdout",
          "text": [
            "True\n"
          ]
        }
      ]
    },
    {
      "cell_type": "code",
      "source": [
        "def email_parser(str1):\n",
        "  is_valid=validate_email(str1)\n",
        "  if is_valid:\n",
        "    return str1\n",
        "  else:\n",
        "       \"ERORR\""
      ],
      "metadata": {
        "id": "ycy_6x4oDbQJ"
      },
      "execution_count": 69,
      "outputs": []
    },
    {
      "cell_type": "code",
      "source": [
        "email_udf=udf(lambda x:email_parser(x))"
      ],
      "metadata": {
        "id": "RARdhtUFGmhD"
      },
      "execution_count": 70,
      "outputs": []
    },
    {
      "cell_type": "code",
      "source": [
        "ddd=df.select(col('emailid'),email_udf(col('emailid')).alias('new_emailid'))"
      ],
      "metadata": {
        "id": "-6UtwKP0o4iS"
      },
      "execution_count": 73,
      "outputs": []
    },
    {
      "cell_type": "code",
      "source": [
        "ddd.show()"
      ],
      "metadata": {
        "colab": {
          "base_uri": "https://localhost:8080/"
        },
        "id": "u3wMnIsQpUZ7",
        "outputId": "5e66e740-ab05-4ec4-8155-b0789732ad7b"
      },
      "execution_count": 74,
      "outputs": [
        {
          "output_type": "stream",
          "name": "stdout",
          "text": [
            "+----------------+----------------+\n",
            "|         emailid|     new_emailid|\n",
            "+----------------+----------------+\n",
            "| test1@gmail.com| test1@gmail.com|\n",
            "| test2@gmail.com| test2@gmail.com|\n",
            "| test3@gmail.com| test3@gmail.com|\n",
            "| test4@gmail.com| test4@gmail.com|\n",
            "| test5@gmail.com| test5@gmail.com|\n",
            "| test6@gmail.com| test6@gmail.com|\n",
            "| test7@gmail.com| test7@gmail.com|\n",
            "| test8@gmail.com| test8@gmail.com|\n",
            "| test9@gmail.com| test9@gmail.com|\n",
            "|test10@gmail.com|test10@gmail.com|\n",
            "|test11@gmail.com|test11@gmail.com|\n",
            "|test12@gmail.com|test12@gmail.com|\n",
            "|test13@gmail.com|test13@gmail.com|\n",
            "|test14@gmail.com|test14@gmail.com|\n",
            "|test15@gmail.com|test15@gmail.com|\n",
            "|test16@gmail.com|test16@gmail.com|\n",
            "|test17@gmail.com|test17@gmail.com|\n",
            "|test18@gmail.com|test18@gmail.com|\n",
            "|test19@gmail.com|test19@gmail.com|\n",
            "|test20@gmail.com|test20@gmail.com|\n",
            "+----------------+----------------+\n",
            "only showing top 20 rows\n",
            "\n"
          ]
        }
      ]
    },
    {
      "cell_type": "code",
      "source": [
        "\n",
        "e_edf=ddd.filter(col('new_emailid')=='ERROR')"
      ],
      "metadata": {
        "id": "q6yBVpWNpWL_"
      },
      "execution_count": 77,
      "outputs": []
    },
    {
      "cell_type": "code",
      "source": [
        "e_edf.show()"
      ],
      "metadata": {
        "colab": {
          "base_uri": "https://localhost:8080/"
        },
        "id": "-YGPZgdUs1V_",
        "outputId": "b689c871-361e-4674-8bbb-bc6bda49c0c6"
      },
      "execution_count": 78,
      "outputs": [
        {
          "output_type": "stream",
          "name": "stdout",
          "text": [
            "+-------+-----------+\n",
            "|emailid|new_emailid|\n",
            "+-------+-----------+\n",
            "+-------+-----------+\n",
            "\n"
          ]
        }
      ]
    },
    {
      "cell_type": "code",
      "source": [
        "cd=df.dropDuplicates()"
      ],
      "metadata": {
        "id": "qlS2svpwtKq2"
      },
      "execution_count": 80,
      "outputs": []
    },
    {
      "cell_type": "code",
      "source": [
        "cd.count()"
      ],
      "metadata": {
        "colab": {
          "base_uri": "https://localhost:8080/"
        },
        "id": "jUpNq00TtU0i",
        "outputId": "c04448eb-215b-4b95-8675-a6429a7ad529"
      },
      "execution_count": 82,
      "outputs": [
        {
          "output_type": "execute_result",
          "data": {
            "text/plain": [
              "901"
            ]
          },
          "metadata": {},
          "execution_count": 82
        }
      ]
    },
    {
      "cell_type": "code",
      "source": [
        ""
      ],
      "metadata": {
        "id": "x6ESOmh3tiVu"
      },
      "execution_count": null,
      "outputs": []
    }
  ]
}